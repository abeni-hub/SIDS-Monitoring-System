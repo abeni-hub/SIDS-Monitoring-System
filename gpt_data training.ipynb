{
 "cells": [
  {
   "cell_type": "code",
   "execution_count": 1,
   "id": "cfaca446",
   "metadata": {},
   "outputs": [
    {
     "name": "stdout",
     "output_type": "stream",
     "text": [
      "Missing values:\n",
      " heart_rate            0\n",
      "temperature           0\n",
      "motion_duration       0\n",
      "no_motion_duration    0\n",
      "sids_risk             0\n",
      "dtype: int64\n",
      "\n",
      "Data Description:\n",
      "         heart_rate  temperature  motion_duration  no_motion_duration  \\\n",
      "count  1000.000000  1000.000000      1000.000000         1000.000000   \n",
      "mean    139.960304    37.018104         9.810362           77.758063   \n",
      "std      29.260900     0.387664        10.036206           80.235183   \n",
      "min      84.902439    35.921245         0.006536            0.064469   \n",
      "25%     113.801487    36.754438         2.709460           14.640231   \n",
      "50%     140.127971    37.018767         6.663101           63.644275   \n",
      "75%     167.352747    37.271893        13.355809          117.429348   \n",
      "max     192.063077    38.243967        77.235295          547.724284   \n",
      "\n",
      "        sids_risk  \n",
      "count  1000.00000  \n",
      "mean      0.50000  \n",
      "std       0.50025  \n",
      "min       0.00000  \n",
      "25%       0.00000  \n",
      "50%       0.50000  \n",
      "75%       1.00000  \n",
      "max       1.00000  \n"
     ]
    }
   ],
   "source": [
    "import pandas as pd\n",
    "import numpy as np\n",
    "from sklearn.model_selection import train_test_split\n",
    "from sklearn.preprocessing import StandardScaler\n",
    "\n",
    "# Seed and sample size\n",
    "np.random.seed(42)\n",
    "n_samples_per_class = 500\n",
    "\n",
    "# Generate non-risky samples (sids_risk = 0)\n",
    "non_risky_data = {\n",
    "    'heart_rate': np.random.normal(140, 10, n_samples_per_class),\n",
    "    'temperature': np.random.normal(37, 0.4, n_samples_per_class),\n",
    "    'motion_duration': np.random.exponential(10, n_samples_per_class),\n",
    "    'no_motion_duration': np.random.exponential(20, n_samples_per_class)\n",
    "}\n",
    "non_risky_df = pd.DataFrame(non_risky_data)\n",
    "non_risky_df['sids_risk'] = 0\n",
    "\n",
    "# Generate risky samples (sids_risk = 1)\n",
    "risky_heart_rate = np.concatenate([\n",
    "    np.random.normal(100, 5, n_samples_per_class // 2),\n",
    "    np.random.normal(180, 5, n_samples_per_class // 2)\n",
    "])\n",
    "risky_data = {\n",
    "    'heart_rate': risky_heart_rate,\n",
    "    'temperature': np.random.normal(37, 0.4, n_samples_per_class),\n",
    "    'motion_duration': np.random.exponential(10, n_samples_per_class),\n",
    "    'no_motion_duration': np.random.exponential(80, n_samples_per_class) + 60\n",
    "}\n",
    "risky_df = pd.DataFrame(risky_data)\n",
    "risky_df['sids_risk'] = 1\n",
    "\n",
    "# Combine and shuffle\n",
    "df = pd.concat([non_risky_df, risky_df], ignore_index=True)\n",
    "df = df.sample(frac=1, random_state=42).reset_index(drop=True)\n",
    "\n",
    "# Check for missing/null values\n",
    "print(\"Missing values:\\n\", df.isnull().sum())\n",
    "\n",
    "# Data overview\n",
    "print(\"\\nData Description:\\n\", df.describe())\n",
    "\n",
    "# Features and label\n",
    "X = df.drop(['sids_risk'], axis=1)\n",
    "y = df['sids_risk']\n",
    "\n",
    "# Train-test split\n",
    "X_train, X_test, y_train, y_test = train_test_split(\n",
    "    X, y, test_size=0.2, stratify=y, random_state=42\n",
    ")\n",
    "\n",
    "# Feature scaling\n",
    "scaler = StandardScaler()\n",
    "X_train_scaled = scaler.fit_transform(X_train)\n",
    "X_test_scaled = scaler.transform(X_test)\n"
   ]
  },
  {
   "cell_type": "markdown",
   "id": "cbf1c75b",
   "metadata": {},
   "source": [
    "Random Forest Models"
   ]
  },
  {
   "cell_type": "code",
   "execution_count": 2,
   "id": "3a45439b",
   "metadata": {},
   "outputs": [
    {
     "name": "stdout",
     "output_type": "stream",
     "text": [
      "\n",
      "--- Random Forest ---\n",
      "Accuracy: 1.0\n",
      "              precision    recall  f1-score   support\n",
      "\n",
      "           0       1.00      1.00      1.00       100\n",
      "           1       1.00      1.00      1.00       100\n",
      "\n",
      "    accuracy                           1.00       200\n",
      "   macro avg       1.00      1.00      1.00       200\n",
      "weighted avg       1.00      1.00      1.00       200\n",
      "\n"
     ]
    }
   ],
   "source": [
    "from sklearn.ensemble import RandomForestClassifier\n",
    "from sklearn.metrics import accuracy_score, classification_report\n",
    "\n",
    "print(\"\\n--- Random Forest ---\")\n",
    "rf_model = RandomForestClassifier(n_estimators=100, random_state=42)\n",
    "rf_model.fit(X_train_scaled, y_train)\n",
    "rf_pred = rf_model.predict(X_test_scaled)\n",
    "print(\"Accuracy:\", accuracy_score(y_test, rf_pred))\n",
    "print(classification_report(y_test, rf_pred))\n"
   ]
  },
  {
   "cell_type": "markdown",
   "id": "157be8a5",
   "metadata": {},
   "source": [
    "Logistic Regression"
   ]
  },
  {
   "cell_type": "code",
   "execution_count": 3,
   "id": "67cad0ef",
   "metadata": {},
   "outputs": [
    {
     "name": "stdout",
     "output_type": "stream",
     "text": [
      "\n",
      "--- Logistic Regression ---\n",
      "Accuracy: 0.98\n",
      "              precision    recall  f1-score   support\n",
      "\n",
      "           0       0.99      0.97      0.98       100\n",
      "           1       0.97      0.99      0.98       100\n",
      "\n",
      "    accuracy                           0.98       200\n",
      "   macro avg       0.98      0.98      0.98       200\n",
      "weighted avg       0.98      0.98      0.98       200\n",
      "\n"
     ]
    }
   ],
   "source": [
    "from sklearn.linear_model import LogisticRegression\n",
    "\n",
    "print(\"\\n--- Logistic Regression ---\")\n",
    "log_model = LogisticRegression(max_iter=1000)\n",
    "log_model.fit(X_train_scaled, y_train)\n",
    "log_pred = log_model.predict(X_test_scaled)\n",
    "print(\"Accuracy:\", accuracy_score(y_test, log_pred))\n",
    "print(classification_report(y_test, log_pred))\n"
   ]
  },
  {
   "cell_type": "markdown",
   "id": "9568129e",
   "metadata": {},
   "source": [
    "SVM(Support Vector Machine)"
   ]
  },
  {
   "cell_type": "code",
   "execution_count": 4,
   "id": "642239e1",
   "metadata": {},
   "outputs": [
    {
     "name": "stdout",
     "output_type": "stream",
     "text": [
      "\n",
      "--- Support Vector Machine ---\n",
      "Accuracy: 0.995\n",
      "              precision    recall  f1-score   support\n",
      "\n",
      "           0       1.00      0.99      0.99       100\n",
      "           1       0.99      1.00      1.00       100\n",
      "\n",
      "    accuracy                           0.99       200\n",
      "   macro avg       1.00      0.99      0.99       200\n",
      "weighted avg       1.00      0.99      0.99       200\n",
      "\n"
     ]
    }
   ],
   "source": [
    "from sklearn.svm import SVC\n",
    "\n",
    "print(\"\\n--- Support Vector Machine ---\")\n",
    "svm_model = SVC()\n",
    "svm_model.fit(X_train_scaled, y_train)\n",
    "svm_pred = svm_model.predict(X_test_scaled)\n",
    "print(\"Accuracy:\", accuracy_score(y_test, svm_pred))\n",
    "print(classification_report(y_test, svm_pred))\n"
   ]
  },
  {
   "cell_type": "code",
   "execution_count": 6,
   "id": "cc844abd",
   "metadata": {},
   "outputs": [
    {
     "name": "stdout",
     "output_type": "stream",
     "text": [
      "✅ Random Forest model saved as random_forest_model.pkl\n",
      "✅ Logistic Regression model saved as logistic_regression_model.pkl\n",
      "✅ SVM model saved as svm_model.pkl\n",
      "✅ Scaler saved as scaler.pkl\n"
     ]
    }
   ],
   "source": [
    "import joblib\n",
    "\n",
    "# Export Random Forest model\n",
    "joblib.dump(rf_model, 'random_forest_model.pkl')\n",
    "print(\"✅ Random Forest model saved as random_forest_model.pkl\")\n",
    "\n",
    "# Export Logistic Regression model\n",
    "joblib.dump(log_model, 'logistic_regression_model.pkl')\n",
    "print(\"✅ Logistic Regression model saved as logistic_regression_model.pkl\")\n",
    "\n",
    "# Export SVM model\n",
    "joblib.dump(svm_model, 'svm_model.pkl')\n",
    "print(\"✅ SVM model saved as svm_model.pkl\")\n",
    "\n",
    "# Export the scaler (important for consistent preprocessing in deployment)\n",
    "joblib.dump(scaler, 'scaler.pkl')\n",
    "print(\"✅ Scaler saved as scaler.pkl\")\n"
   ]
  },
  {
   "cell_type": "markdown",
   "id": "a76b97b6",
   "metadata": {},
   "source": [
    "To Load the model"
   ]
  },
  {
   "cell_type": "code",
   "execution_count": null,
   "id": "df53ea6c",
   "metadata": {},
   "outputs": [],
   "source": []
  },
  {
   "cell_type": "markdown",
   "id": "3aed9753",
   "metadata": {},
   "source": [
    "Visualizing the features"
   ]
  },
  {
   "cell_type": "code",
   "execution_count": 8,
   "id": "055afc8d",
   "metadata": {},
   "outputs": [
    {
     "name": "stdout",
     "output_type": "stream",
     "text": [
      "✅ Random Forest model trained.\n"
     ]
    },
    {
     "name": "stderr",
     "output_type": "stream",
     "text": [
      "C:\\Users\\Ab\\AppData\\Local\\Temp\\ipykernel_16496\\1252524366.py:25: FutureWarning: \n",
      "\n",
      "Passing `palette` without assigning `hue` is deprecated and will be removed in v0.14.0. Assign the `y` variable to `hue` and set `legend=False` for the same effect.\n",
      "\n",
      "  sns.barplot(x='Importance', y='Feature', data=feature_df, palette='viridis')\n"
     ]
    },
    {
     "data": {
      "image/png": "[encoded data removed]",
      "text/plain": [
       "<Figure size 800x600 with 1 Axes>"
      ]
     },
     "metadata": {},
     "output_type": "display_data"
    }
   ],
   "source": [
    "# --- 1. Train Random Forest (if not already trained) ---\n",
    "from sklearn.ensemble import RandomForestClassifier\n",
    "\n",
    "rf_model = RandomForestClassifier(n_estimators=100, random_state=42)\n",
    "rf_model.fit(X_train_scaled, y_train)  # Use scaled data\n",
    "print(\"✅ Random Forest model trained.\")\n",
    "\n",
    "# --- 2. Visualize Feature Importance ---\n",
    "import matplotlib.pyplot as plt\n",
    "import seaborn as sns\n",
    "import pandas as pd\n",
    "\n",
    "# Extract feature importances\n",
    "importances = rf_model.feature_importances_\n",
    "feature_names = X.columns  # Use original feature names\n",
    "\n",
    "# Create DataFrame for plotting\n",
    "feature_df = pd.DataFrame({\n",
    "    'Feature': feature_names,\n",
    "    'Importance': importances\n",
    "}).sort_values(by='Importance', ascending=False)\n",
    "\n",
    "# Plot\n",
    "plt.figure(figsize=(8, 6))\n",
    "sns.barplot(x='Importance', y='Feature', data=feature_df, palette='viridis')\n",
    "plt.title('Feature Importance for SIDS Risk Prediction (Random Forest)')\n",
    "plt.xlabel('Relative Importance')\n",
    "plt.ylabel('Features')\n",
    "plt.tight_layout()\n",
    "plt.show()\n"
   ]
  },
  {
   "cell_type": "markdown",
   "id": "d0c1a207",
   "metadata": {},
   "source": [
    "Plot a Confusion Matrix & ROC CurvePlot a Confusion Matrix & ROC Curve"
   ]
  },
  {
   "cell_type": "code",
   "execution_count": 9,
   "id": "5195d60d",
   "metadata": {},
   "outputs": [
    {
     "data": {
      "image/png": "[encoded data removed]",
      "text/plain": [
       "<Figure size 640x480 with 2 Axes>"
      ]
     },
     "metadata": {},
     "output_type": "display_data"
    },
    {
     "data": {
      "image/png": "[encoded data removed]",
      "text/plain": [
       "<Figure size 600x400 with 1 Axes>"
      ]
     },
     "metadata": {},
     "output_type": "display_data"
    }
   ],
   "source": [
    "from sklearn.metrics import confusion_matrix, ConfusionMatrixDisplay, roc_curve, auc\n",
    "import matplotlib.pyplot as plt\n",
    "\n",
    "# --- 1. Predictions ---\n",
    "rf_pred = rf_model.predict(X_test_scaled)\n",
    "rf_proba = rf_model.predict_proba(X_test_scaled)[:, 1]  # Probability for ROC\n",
    "\n",
    "# --- 2. Confusion Matrix ---\n",
    "cm = confusion_matrix(y_test, rf_pred)\n",
    "disp = ConfusionMatrixDisplay(confusion_matrix=cm)\n",
    "disp.plot(cmap='Blues')\n",
    "plt.title(\"Confusion Matrix - Random Forest\")\n",
    "plt.show()\n",
    "\n",
    "# --- 3. ROC Curve ---\n",
    "fpr, tpr, _ = roc_curve(y_test, rf_proba)\n",
    "roc_auc = auc(fpr, tpr)\n",
    "\n",
    "plt.figure(figsize=(6, 4))\n",
    "plt.plot(fpr, tpr, label=f\"ROC Curve (AUC = {roc_auc:.2f})\")\n",
    "plt.plot([0, 1], [0, 1], linestyle='--', color='gray')\n",
    "plt.xlabel(\"False Positive Rate\")\n",
    "plt.ylabel(\"True Positive Rate\")\n",
    "plt.title(\"ROC Curve - Random Forest\")\n",
    "plt.legend()\n",
    "plt.grid(True)\n",
    "plt.tight_layout()\n",
    "plt.show()\n"
   ]
  },
  {
   "cell_type": "markdown",
   "id": "b2f81681",
   "metadata": {},
   "source": [
    "Export Predictions to CSV"
   ]
  },
  {
   "cell_type": "code",
   "execution_count": 10,
   "id": "93f0ee8f",
   "metadata": {},
   "outputs": [
    {
     "name": "stdout",
     "output_type": "stream",
     "text": [
      "Predictions exported to 'sids_rf_predictions.csv'\n"
     ]
    }
   ],
   "source": [
    "# Add predictions to test set\n",
    "rf_pred = rf_model.predict(X_test_scaled)\n",
    "rf_proba = rf_model.predict_proba(X_test_scaled)[:, 1]\n",
    "\n",
    "# Create a DataFrame with predictions\n",
    "test_results = pd.DataFrame(X_test_scaled, columns=X.columns)  # Restore feature names\n",
    "test_results['Actual'] = y_test.values\n",
    "test_results['Predicted'] = rf_pred\n",
    "test_results['Risk_Probability'] = rf_proba\n",
    "\n",
    "# Save to CSV\n",
    "test_results.to_csv('sids_rf_predictions.csv', index=False)\n",
    "print(\"Predictions exported to 'sids_rf_predictions.csv'\")\n"
   ]
  },
  {
   "cell_type": "code",
   "execution_count": null,
   "id": "8fd26cfd",
   "metadata": {},
   "outputs": [],
   "source": []
  }
 ],
 "metadata": {
  "kernelspec": {
   "display_name": "Python 3",
   "language": "python",
   "name": "python3"
  },
  "language_info": {
   "codemirror_mode": {
    "name": "ipython",
    "version": 3
   },
   "file_extension": ".py",
   "mimetype": "text/x-python",
   "name": "python",
   "nbconvert_exporter": "python",
   "pygments_lexer": "ipython3",
   "version": "3.13.1"
  }
 },
 "nbformat": 4,
 "nbformat_minor": 5
}
