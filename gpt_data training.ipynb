{
 "cells": [
  {
   "cell_type": "code",
   "execution_count": 12,
   "id": "cfaca446",
   "metadata": {},
   "outputs": [
    {
     "name": "stdout",
     "output_type": "stream",
     "text": [
      "Class distribution:\n",
      " sids_risk\n",
      "1    500\n",
      "0    500\n",
      "Name: count, dtype: int64\n",
      "\n",
      "Sample data:\n",
      "   heart_rate  temperature  motion_duration  no_motion_duration  sids_risk\n",
      "0  102.543625    36.926721         6.691071           63.277332          1\n",
      "1   93.455898    36.874588        13.205070          111.917592          1\n",
      "2  109.002556    37.168038        17.202634          101.061192          1\n",
      "3  101.885502    37.117690        32.568977           62.082031          1\n",
      "4  128.753579    37.087660         2.433950           39.086746          0\n"
     ]
    }
   ],
   "source": [
    "import pandas as pd\n",
    "import numpy as np\n",
    "\n",
    "np.random.seed(42)\n",
    "\n",
    "n_samples_per_class = 500  # 500 risky + 500 non-risky = 1000 total\n",
    "\n",
    "# Generate non-risky samples (sids_risk = 0)\n",
    "non_risky_data = {\n",
    "    'heart_rate': np.random.normal(140, 10, n_samples_per_class),  # within 110–170\n",
    "    'temperature': np.random.normal(37, 0.4, n_samples_per_class),\n",
    "    'motion_duration': np.random.exponential(10, n_samples_per_class),\n",
    "    'no_motion_duration': np.random.exponential(20, n_samples_per_class)  # < 60\n",
    "}\n",
    "non_risky_df = pd.DataFrame(non_risky_data)\n",
    "non_risky_df['sids_risk'] = 0\n",
    "\n",
    "# Generate risky samples (sids_risk = 1)\n",
    "risky_heart_rate = np.concatenate([\n",
    "    np.random.normal(100, 5, n_samples_per_class // 2),  # below 110\n",
    "    np.random.normal(180, 5, n_samples_per_class // 2)   # above 170\n",
    "])\n",
    "risky_data = {\n",
    "    'heart_rate': risky_heart_rate,\n",
    "    'temperature': np.random.normal(37, 0.4, n_samples_per_class),\n",
    "    'motion_duration': np.random.exponential(10, n_samples_per_class),\n",
    "    'no_motion_duration': np.random.exponential(80, n_samples_per_class) + 60  # > 60\n",
    "}\n",
    "risky_df = pd.DataFrame(risky_data)\n",
    "risky_df['sids_risk'] = 1\n",
    "\n",
    "# Combine both into a single balanced dataset\n",
    "df = pd.concat([non_risky_df, risky_df], ignore_index=True)\n",
    "df = df.sample(frac=1, random_state=42).reset_index(drop=True)  # Shuffle the data\n",
    "\n",
    "# Display class balance and a sample\n",
    "print(\"Class distribution:\\n\", df['sids_risk'].value_counts())\n",
    "print(\"\\nSample data:\")\n",
    "print(df.head())\n",
    "\n",
    "# Save to CSV\n",
    "df.to_csv('sids_risk_data_balanced.csv', index=False)\n"
   ]
  },
  {
   "cell_type": "code",
   "execution_count": 9,
   "id": "bba7b29f",
   "metadata": {},
   "outputs": [],
   "source": [
    "from sklearn.model_selection import train_test_split\n",
    "from sklearn.ensemble import RandomForestClassifier\n",
    "from sklearn.metrics import classification_report, accuracy_score\n",
    "\n",
    "import matplotlib.pyplot as plt\n",
    "import seaborn as sns\n",
    "\n",
    "# Features and target\n",
    "X = df.drop(['sids_risk'], axis=1)  # Drop sids_risk AND resp_rate\n",
    "y = df['sids_risk']\n",
    "\n",
    "# Split the data\n",
    "X_train, X_test, y_train, y_test = train_test_split(\n",
    "    X, y, test_size=0.2, stratify=y, random_state=42\n",
    ")\n",
    "\n"
   ]
  },
  {
   "cell_type": "markdown",
   "id": "cbf1c75b",
   "metadata": {},
   "source": [
    "Random Forest Models"
   ]
  },
  {
   "cell_type": "code",
   "execution_count": 13,
   "id": "3a45439b",
   "metadata": {},
   "outputs": [
    {
     "name": "stdout",
     "output_type": "stream",
     "text": [
      "\n",
      "--- Random Forest ---\n",
      "Accuracy: 0.985\n",
      "              precision    recall  f1-score   support\n",
      "\n",
      "           0       0.99      0.98      0.98       100\n",
      "           1       0.98      0.99      0.99       100\n",
      "\n",
      "    accuracy                           0.98       200\n",
      "   macro avg       0.99      0.98      0.98       200\n",
      "weighted avg       0.99      0.98      0.98       200\n",
      "\n"
     ]
    }
   ],
   "source": [
    "print(\"\\n--- Random Forest ---\")\n",
    "rf_model = RandomForestClassifier(n_estimators=100, random_state=42)\n",
    "rf_model.fit(X_train, y_train)\n",
    "rf_pred = rf_model.predict(X_test)\n",
    "print(\"Accuracy:\", accuracy_score(y_test, rf_pred))\n",
    "print(classification_report(y_test, rf_pred))\n"
   ]
  },
  {
   "cell_type": "markdown",
   "id": "157be8a5",
   "metadata": {},
   "source": [
    "Logistic Regression"
   ]
  },
  {
   "cell_type": "code",
   "execution_count": 14,
   "id": "67cad0ef",
   "metadata": {},
   "outputs": [
    {
     "name": "stdout",
     "output_type": "stream",
     "text": [
      "\n",
      "--- Logistic Regression ---\n",
      "Accuracy: 0.655\n",
      "              precision    recall  f1-score   support\n",
      "\n",
      "           0       0.63      0.76      0.69       100\n",
      "           1       0.70      0.55      0.61       100\n",
      "\n",
      "    accuracy                           0.66       200\n",
      "   macro avg       0.66      0.66      0.65       200\n",
      "weighted avg       0.66      0.66      0.65       200\n",
      "\n"
     ]
    }
   ],
   "source": [
    "print(\"\\n--- Logistic Regression ---\")\n",
    "log_model = LogisticRegression(max_iter=1000)\n",
    "log_model.fit(X_train, y_train)\n",
    "log_pred = log_model.predict(X_test)\n",
    "print(\"Accuracy:\", accuracy_score(y_test, log_pred))\n",
    "print(classification_report(y_test, log_pred))\n"
   ]
  },
  {
   "cell_type": "markdown",
   "id": "9568129e",
   "metadata": {},
   "source": [
    "SVM(Support Vector Machine)"
   ]
  },
  {
   "cell_type": "code",
   "execution_count": 15,
   "id": "642239e1",
   "metadata": {},
   "outputs": [
    {
     "name": "stdout",
     "output_type": "stream",
     "text": [
      "\n",
      "--- Support Vector Machine ---\n",
      "Accuracy: 0.975\n",
      "              precision    recall  f1-score   support\n",
      "\n",
      "           0       0.99      0.96      0.97       100\n",
      "           1       0.96      0.99      0.98       100\n",
      "\n",
      "    accuracy                           0.97       200\n",
      "   macro avg       0.98      0.97      0.97       200\n",
      "weighted avg       0.98      0.97      0.97       200\n",
      "\n"
     ]
    }
   ],
   "source": [
    "print(\"\\n--- Support Vector Machine ---\")\n",
    "svm_model = SVC()\n",
    "svm_model.fit(X_train, y_train)\n",
    "svm_pred = svm_model.predict(X_test)\n",
    "print(\"Accuracy:\", accuracy_score(y_test, svm_pred))\n",
    "print(classification_report(y_test, svm_pred))\n"
   ]
  },
  {
   "cell_type": "code",
   "execution_count": 16,
   "id": "cc844abd",
   "metadata": {},
   "outputs": [
    {
     "data": {
      "text/plain": [
       "['sids_risk_detector.pkl']"
      ]
     },
     "execution_count": 16,
     "metadata": {},
     "output_type": "execute_result"
    }
   ],
   "source": [
    "import joblib\n",
    "\n",
    "# Save model\n",
    "joblib.dump(model, 'sids_risk_detector.pkl')"
   ]
  },
  {
   "cell_type": "markdown",
   "id": "a76b97b6",
   "metadata": {},
   "source": [
    "To Load the model"
   ]
  },
  {
   "cell_type": "code",
   "execution_count": 17,
   "id": "df53ea6c",
   "metadata": {},
   "outputs": [],
   "source": [
    "model = joblib.load('sids_risk_detector.pkl')\n"
   ]
  },
  {
   "cell_type": "markdown",
   "id": "3aed9753",
   "metadata": {},
   "source": [
    "Visualizing the features"
   ]
  },
  {
   "cell_type": "code",
   "execution_count": 18,
   "id": "055afc8d",
   "metadata": {},
   "outputs": [
    {
     "name": "stderr",
     "output_type": "stream",
     "text": [
      "C:\\Users\\Ab\\AppData\\Local\\Temp\\ipykernel_17256\\3092367508.py:11: FutureWarning: \n",
      "\n",
      "Passing `palette` without assigning `hue` is deprecated and will be removed in v0.14.0. Assign the `y` variable to `hue` and set `legend=False` for the same effect.\n",
      "\n",
      "  sns.barplot(x='Importance', y='Feature', data=feature_df, palette='viridis')\n"
     ]
    },
    {
     "data": {
      "image/png": "[encoded data removed]",
      "text/plain": [
       "<Figure size 800x600 with 1 Axes>"
      ]
     },
     "metadata": {},
     "output_type": "display_data"
    }
   ],
   "source": [
    "# Visualize feature importance\n",
    "importances = model.feature_importances_\n",
    "feature_names = X.columns  # X already has 'resp_rate' removed earlier\n",
    "\n",
    "feature_df = pd.DataFrame({\n",
    "    'Feature': feature_names,\n",
    "    'Importance': importances\n",
    "}).sort_values(by='Importance', ascending=False)\n",
    "\n",
    "plt.figure(figsize=(8, 6))\n",
    "sns.barplot(x='Importance', y='Feature', data=feature_df, palette='viridis')\n",
    "plt.title('Feature Importance for SIDS Risk Prediction')\n",
    "plt.tight_layout()\n",
    "plt.show()\n"
   ]
  },
  {
   "cell_type": "markdown",
   "id": "d0c1a207",
   "metadata": {},
   "source": [
    "Plot a Confusion Matrix & ROC CurvePlot a Confusion Matrix & ROC Curve"
   ]
  },
  {
   "cell_type": "code",
   "execution_count": 19,
   "id": "5195d60d",
   "metadata": {},
   "outputs": [
    {
     "data": {
      "image/png": "[encoded data removed]",
      "text/plain": [
       "<Figure size 640x480 with 2 Axes>"
      ]
     },
     "metadata": {},
     "output_type": "display_data"
    },
    {
     "data": {
      "image/png": "[encoded data removed]",
      "text/plain": [
       "<Figure size 600x400 with 1 Axes>"
      ]
     },
     "metadata": {},
     "output_type": "display_data"
    }
   ],
   "source": [
    "from sklearn.metrics import confusion_matrix, ConfusionMatrixDisplay, roc_curve, auc\n",
    "\n",
    "# Confusion Matrix\n",
    "cm = confusion_matrix(y_test, y_pred)\n",
    "disp = ConfusionMatrixDisplay(confusion_matrix=cm)\n",
    "disp.plot(cmap='Blues')\n",
    "plt.title(\"Confusion Matrix\")\n",
    "plt.show()\n",
    "\n",
    "# ROC Curve\n",
    "y_proba = model.predict_proba(X_test)[:, 1]\n",
    "fpr, tpr, _ = roc_curve(y_test, y_proba)\n",
    "roc_auc = auc(fpr, tpr)\n",
    "\n",
    "plt.figure(figsize=(6, 4))\n",
    "plt.plot(fpr, tpr, label=f\"ROC Curve (AUC = {roc_auc:.2f})\")\n",
    "plt.plot([0, 1], [0, 1], linestyle='--', color='gray')\n",
    "plt.xlabel(\"False Positive Rate\")\n",
    "plt.ylabel(\"True Positive Rate\")\n",
    "plt.title(\"ROC Curve\")\n",
    "plt.legend()\n",
    "plt.grid(True)\n",
    "plt.show()\n"
   ]
  },
  {
   "cell_type": "markdown",
   "id": "b2f81681",
   "metadata": {},
   "source": [
    "Export Predictions to CSV"
   ]
  },
  {
   "cell_type": "code",
   "execution_count": 20,
   "id": "93f0ee8f",
   "metadata": {},
   "outputs": [],
   "source": [
    "# Add predictions to test set\n",
    "test_results = X_test.copy()\n",
    "test_results['Actual'] = y_test.values\n",
    "test_results['Predicted'] = y_pred\n",
    "test_results['Risk_Probability'] = y_proba\n",
    "\n",
    "# Save to CSV\n",
    "test_results.to_csv('sids_predictions.csv', index=False)\n"
   ]
  },
  {
   "cell_type": "code",
   "execution_count": null,
   "id": "8fd26cfd",
   "metadata": {},
   "outputs": [],
   "source": []
  }
 ],
 "metadata": {
  "kernelspec": {
   "display_name": "Python 3",
   "language": "python",
   "name": "python3"
  },
  "language_info": {
   "codemirror_mode": {
    "name": "ipython",
    "version": 3
   },
   "file_extension": ".py",
   "mimetype": "text/x-python",
   "name": "python",
   "nbconvert_exporter": "python",
   "pygments_lexer": "ipython3",
   "version": "3.13.1"
  }
 },
 "nbformat": 4,
 "nbformat_minor": 5
}
